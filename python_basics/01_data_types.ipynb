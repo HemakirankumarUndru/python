{
 "cells": [
  {
   "cell_type": "code",
   "execution_count": 1,
   "id": "20883253-1c56-4b7b-b879-77a143a601ba",
   "metadata": {},
   "outputs": [
    {
     "name": "stdout",
     "output_type": "stream",
     "text": [
      "<class 'int'>\n",
      "10\n",
      "140731961427016\n"
     ]
    }
   ],
   "source": [
    "x=10\n",
    "print(type(x))\n",
    "print(x)\n",
    "print(id(x))"
   ]
  },
  {
   "cell_type": "code",
   "execution_count": 7,
   "id": "4d8c2e71-9156-4974-bb37-a609b8ba3d92",
   "metadata": {},
   "outputs": [
    {
     "name": "stdout",
     "output_type": "stream",
     "text": [
      "<class 'float'>\n",
      "10.6\n",
      "1780962333072\n"
     ]
    }
   ],
   "source": [
    "x=10.6\n",
    "print(type(x))\n",
    "print(x)\n",
    "print(id(x))"
   ]
  },
  {
   "cell_type": "code",
   "execution_count": 11,
   "id": "2a2dca93-6cd6-40a0-83b3-c130402ed1d0",
   "metadata": {},
   "outputs": [
    {
     "name": "stdout",
     "output_type": "stream",
     "text": [
      " The value 10 is the type of <class 'int'>  and it is stored at 140736462505032.\n"
     ]
    }
   ],
   "source": [
    "x=10\n",
    "print (f\" The value {x} is the type of {type(x)}  and it is stored at {id(x)}.\")"
   ]
  },
  {
   "cell_type": "code",
   "execution_count": 12,
   "id": "d27a34f2-4092-45ca-a19f-1ba74b06fe31",
   "metadata": {},
   "outputs": [
    {
     "name": "stdout",
     "output_type": "stream",
     "text": [
      " The value 12.5 is the type of <class 'float'>  and it is stored at 1780962333584.\n"
     ]
    }
   ],
   "source": [
    "x=12.5\n",
    "print (f\" The value {x} is the type of {type(x)}  and it is stored at {id(x)}.\")"
   ]
  },
  {
   "cell_type": "code",
   "execution_count": 19,
   "id": "6d73134a-64db-4c19-b83b-e4cccf6b47fe",
   "metadata": {},
   "outputs": [
    {
     "name": "stdout",
     "output_type": "stream",
     "text": [
      " The value (10+2j) is the type of <class 'complex'>  and it is stored at 1780962340336.\n"
     ]
    }
   ],
   "source": [
    "x=10+2j\n",
    "print (f\" The value {x} is the type of {type(x)}  and it is stored at {id(x)}.\")"
   ]
  },
  {
   "cell_type": "code",
   "execution_count": 22,
   "id": "501c588d-469b-4094-9a34-8f1c60aaca79",
   "metadata": {},
   "outputs": [
    {
     "name": "stdout",
     "output_type": "stream",
     "text": [
      " The value Mr_KK is the type of <class 'str'>  and it is stored at 1780963404208.\n"
     ]
    }
   ],
   "source": [
    "x='Mr_KK'\n",
    "print (f\" The value {x} is the type of {type(x)}  and it is stored at {id(x)}.\")"
   ]
  },
  {
   "cell_type": "code",
   "execution_count": 29,
   "id": "e2d20965-c7f8-4347-b469-436f083b7316",
   "metadata": {},
   "outputs": [
    {
     "name": "stdout",
     "output_type": "stream",
     "text": [
      " The value [12, 'Mr_kk', 10.5] is the type of <class 'list'>  and it is stored at 1780976640832.\n"
     ]
    }
   ],
   "source": [
    "x=[12,'Mr_kk',10.5]\n",
    "print (f\" The value {x} is the type of {type(x)}  and it is stored at {id(x)}.\")"
   ]
  },
  {
   "cell_type": "code",
   "execution_count": 34,
   "id": "e944b623-6384-495a-a902-e1b95aa8dab9",
   "metadata": {},
   "outputs": [
    {
     "name": "stdout",
     "output_type": "stream",
     "text": [
      " The value (1, 5) is the type of <class 'tuple'>  and it is stored at 1780976612736.\n"
     ]
    }
   ],
   "source": [
    "x=(1,5)\n",
    "print (f\" The value {x} is the type of {type(x)}  and it is stored at {id(x)}.\")"
   ]
  },
  {
   "cell_type": "code",
   "execution_count": 35,
   "id": "8a023f7c-8d95-4624-ade9-76e83ea9015c",
   "metadata": {},
   "outputs": [
    {
     "name": "stdout",
     "output_type": "stream",
     "text": [
      " The value range(1, 5) is the type of <class 'range'>  and it is stored at 1780964704736.\n"
     ]
    }
   ],
   "source": [
    "x=range(1,5)\n",
    "print (f\" The value {x} is the type of {type(x)}  and it is stored at {id(x)}.\")"
   ]
  },
  {
   "cell_type": "code",
   "execution_count": 38,
   "id": "87f91686-a21d-4480-8f4c-e34ba8965648",
   "metadata": {},
   "outputs": [
    {
     "name": "stdout",
     "output_type": "stream",
     "text": [
      " The value {'Age': 12, 'Name': 'My_KK'} is the type of <class 'dict'>  and it is stored at 1780976560640.\n"
     ]
    }
   ],
   "source": [
    "x={'Age':12,\"Name\":'My_KK'}\n",
    "print (f\" The value {x} is the type of {type(x)}  and it is stored at {id(x)}.\")"
   ]
  },
  {
   "cell_type": "code",
   "execution_count": 40,
   "id": "7030a64c-88a5-4080-8ee4-932c2c1f2e87",
   "metadata": {},
   "outputs": [
    {
     "name": "stdout",
     "output_type": "stream",
     "text": [
      " The value {12, 13} is the type of <class 'set'>  and it is stored at 1780963540576.\n"
     ]
    }
   ],
   "source": [
    "x={12,13}\n",
    "print (f\" The value {x} is the type of {type(x)}  and it is stored at {id(x)}.\")"
   ]
  },
  {
   "cell_type": "code",
   "execution_count": 54,
   "id": "505ab2f9-2782-49ce-b596-cae95e09f517",
   "metadata": {},
   "outputs": [
    {
     "name": "stdout",
     "output_type": "stream",
     "text": [
      " The value True is the type of <class 'bool'>  and it is stored at 140736461032000.\n"
     ]
    }
   ],
   "source": [
    "x=True\n",
    "if 1:\n",
    "    print (f\" The value {x} is the type of {type(x)}  and it is stored at {id(x)}.\")"
   ]
  },
  {
   "cell_type": "code",
   "execution_count": 56,
   "id": "85ae3bdd-fd37-4d22-931d-9f132f9b7adf",
   "metadata": {},
   "outputs": [
    {
     "name": "stdout",
     "output_type": "stream",
     "text": [
      " The value None is the type of <class 'NoneType'>  and it is stored at 140736461114128.\n"
     ]
    }
   ],
   "source": [
    "x=None\n",
    "print (f\" The value {x} is the type of {type(x)}  and it is stored at {id(x)}.\")"
   ]
  },
  {
   "cell_type": "code",
   "execution_count": null,
   "id": "b07e66f7-603d-4d22-a369-fe2174fd0b04",
   "metadata": {},
   "outputs": [],
   "source": []
  }
 ],
 "metadata": {
  "kernelspec": {
   "display_name": "Python 3 (ipykernel)",
   "language": "python",
   "name": "python3"
  },
  "language_info": {
   "codemirror_mode": {
    "name": "ipython",
    "version": 3
   },
   "file_extension": ".py",
   "mimetype": "text/x-python",
   "name": "python",
   "nbconvert_exporter": "python",
   "pygments_lexer": "ipython3",
   "version": "3.11.7"
  }
 },
 "nbformat": 4,
 "nbformat_minor": 5
}
