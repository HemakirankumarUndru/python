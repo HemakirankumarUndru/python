{
 "cells": [
  {
   "cell_type": "code",
   "execution_count": 4,
   "id": "e37e0ac8-cfbb-4568-9744-d72f0a18094f",
   "metadata": {},
   "outputs": [
    {
     "name": "stdout",
     "output_type": "stream",
     "text": [
      "20 20 140731833566600 140731833566600\n"
     ]
    }
   ],
   "source": [
    "## Two variable having same value then those 2 variable id values should be same \n",
    "a = 20\n",
    "b = 20\n",
    "print(a, b, id(a),id(b))"
   ]
  },
  {
   "cell_type": "code",
   "execution_count": 8,
   "id": "2537f9d5-1993-46cb-a21b-308b00c091c1",
   "metadata": {},
   "outputs": [
    {
     "name": "stdout",
     "output_type": "stream",
     "text": [
      "Mr_KK Mr_KK 2612559640048 2612559640048\n"
     ]
    }
   ],
   "source": [
    "name1 = 'Mr_KK'\n",
    "name2 = 'Mr_KK'\n",
    "print (name1, name2, id(name1),id(name2))"
   ]
  },
  {
   "cell_type": "code",
   "execution_count": null,
   "id": "088d975a-3ffb-406d-bc08-38bc52b710b3",
   "metadata": {},
   "outputs": [],
   "source": []
  }
 ],
 "metadata": {
  "kernelspec": {
   "display_name": "Python 3 (ipykernel)",
   "language": "python",
   "name": "python3"
  },
  "language_info": {
   "codemirror_mode": {
    "name": "ipython",
    "version": 3
   },
   "file_extension": ".py",
   "mimetype": "text/x-python",
   "name": "python",
   "nbconvert_exporter": "python",
   "pygments_lexer": "ipython3",
   "version": "3.11.7"
  }
 },
 "nbformat": 4,
 "nbformat_minor": 5
}
