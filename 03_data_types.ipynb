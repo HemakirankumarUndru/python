{
 "cells": [
  {
   "cell_type": "markdown",
   "id": "117153cc-bdc2-46d8-9af8-0e44da04cedb",
   "metadata": {},
   "source": [
    "### Data Types"
   ]
  },
  {
   "cell_type": "markdown",
   "id": "01bebcda-9e09-4dc6-9bb6-6eef140c761f",
   "metadata": {},
   "source": [
    "#### Numeric Data Type"
   ]
  },
  {
   "cell_type": "markdown",
   "id": "46f9260d-116f-45bc-968e-3b18c5b88cc2",
   "metadata": {},
   "source": [
    "#### 1.Int"
   ]
  },
  {
   "cell_type": "code",
   "execution_count": 10,
   "id": "752e7b0c-1e21-4c12-8d29-ca95ed63ad37",
   "metadata": {},
   "outputs": [
    {
     "name": "stdout",
     "output_type": "stream",
     "text": [
      "My age is 25 <class 'int'> 1715913957680\n"
     ]
    }
   ],
   "source": [
    "age = 25\n",
    "print(f\"My age is {age}\", type(age),id(name))"
   ]
  },
  {
   "cell_type": "markdown",
   "id": "ec1dcf76-d9f1-4744-83b4-3f0b6c5df2c0",
   "metadata": {},
   "source": [
    "#### 2.String"
   ]
  },
  {
   "cell_type": "code",
   "execution_count": 9,
   "id": "dc5f91be-9716-4234-9645-e7e4de384818",
   "metadata": {},
   "outputs": [
    {
     "name": "stdout",
     "output_type": "stream",
     "text": [
      "My name is Mr_KK <class 'str'> 1715913957680\n"
     ]
    }
   ],
   "source": [
    "name = \"Mr_KK\"\n",
    "print(f\"My name is {name}\", type(name),id(name))"
   ]
  },
  {
   "cell_type": "markdown",
   "id": "2f3e4143-db78-4ce6-8267-cf8b52162812",
   "metadata": {},
   "source": [
    "#### 3.Float"
   ]
  },
  {
   "cell_type": "code",
   "execution_count": 11,
   "id": "66dcb570-4b24-49a0-9b65-36c4d1bcfdc7",
   "metadata": {},
   "outputs": [
    {
     "name": "stdout",
     "output_type": "stream",
     "text": [
      "My account balance is 1.6 <class 'float'> 1715912945776\n"
     ]
    }
   ],
   "source": [
    "balance = 1.60\n",
    "print(f\"My account balance is {balance}\", type(balance), id(balance))"
   ]
  },
  {
   "cell_type": "markdown",
   "id": "9adb81ee-c969-4816-a3a7-1ed0648171eb",
   "metadata": {},
   "source": [
    "#### 4.Complex"
   ]
  },
  {
   "cell_type": "code",
   "execution_count": 16,
   "id": "374e153a-a2f5-481a-ac56-85afdcf0477e",
   "metadata": {},
   "outputs": [
    {
     "name": "stdout",
     "output_type": "stream",
     "text": [
      "(2+3j) <class 'complex'> 1715927352464\n"
     ]
    }
   ],
   "source": [
    "sales = 2+3j\n",
    "print(sales, type(sales),id(sales))"
   ]
  },
  {
   "cell_type": "markdown",
   "id": "bd505be5-1fbb-461e-96e3-136f88e70af0",
   "metadata": {},
   "source": [
    "#### 5.List"
   ]
  },
  {
   "cell_type": "code",
   "execution_count": 18,
   "id": "0b3215a2-25a5-4593-a776-d33c71fe76b9",
   "metadata": {},
   "outputs": [
    {
     "name": "stdout",
     "output_type": "stream",
     "text": [
      "[1, 2, 3, 4, 5] <class 'list'> 1715927956544\n"
     ]
    }
   ],
   "source": [
    "student_data = [1,2,3,4,5]\n",
    "print(student_data, type(student_data), id(student_data))"
   ]
  },
  {
   "cell_type": "markdown",
   "id": "7602b051-b15b-4830-8ddb-f2272196a0de",
   "metadata": {},
   "source": [
    "#### 6.Touple"
   ]
  },
  {
   "cell_type": "code",
   "execution_count": 20,
   "id": "8b712a57-6d3a-4bba-8cc3-beb4c202479f",
   "metadata": {},
   "outputs": [
    {
     "name": "stdout",
     "output_type": "stream",
     "text": [
      "(21, 22, 23, 24, 25, 26, 27) <class 'tuple'> 1715927848256\n"
     ]
    }
   ],
   "source": [
    "student_age = (21,22,23,24,25,26,27)\n",
    "print(student_age, type(student_age),id(student_age))"
   ]
  },
  {
   "cell_type": "markdown",
   "id": "56fcef44-6d9e-4ee1-a72d-784ec7c2b646",
   "metadata": {},
   "source": [
    "#### 7.Set"
   ]
  },
  {
   "cell_type": "code",
   "execution_count": 21,
   "id": "bbfd3454-4cce-40ea-b059-7d1ce478745f",
   "metadata": {},
   "outputs": [
    {
     "name": "stdout",
     "output_type": "stream",
     "text": [
      "{1, 2, 3, 4, 5} <class 'set'> 1715927876320\n"
     ]
    }
   ],
   "source": [
    "student_number = {1,2,3,4,5}\n",
    "print(student_number, type(student_number), id(student_number))"
   ]
  },
  {
   "cell_type": "markdown",
   "id": "a853c2c7-45ab-4be1-a1a4-ab8e028acec6",
   "metadata": {},
   "source": [
    "#### 8.Range"
   ]
  },
  {
   "cell_type": "code",
   "execution_count": 22,
   "id": "3e92c931-0ec8-437b-a5ae-70e2c6756fb5",
   "metadata": {},
   "outputs": [
    {
     "name": "stdout",
     "output_type": "stream",
     "text": [
      "range(20, 29) <class 'range'> 1715915259648\n"
     ]
    }
   ],
   "source": [
    "students_ages = range(20,29)\n",
    "print(students_ages, type(students_ages), id(students_ages))"
   ]
  },
  {
   "cell_type": "markdown",
   "id": "be8199e4-671a-46b3-8f49-5ca535511cff",
   "metadata": {},
   "source": [
    "#### 9.Dict"
   ]
  },
  {
   "cell_type": "code",
   "execution_count": 26,
   "id": "f792e8f6-9c53-4731-9550-70b3bd8fa7b2",
   "metadata": {},
   "outputs": [
    {
     "name": "stdout",
     "output_type": "stream",
     "text": [
      "{'name': 'Mr_KK', 'age': 25} <class 'dict'> 1715927662400\n"
     ]
    }
   ],
   "source": [
    "student = {'name': \"Mr_KK\", 'age': 25}\n",
    "print(student, type(student),id(student))"
   ]
  },
  {
   "cell_type": "markdown",
   "id": "6dfd7421-2c9a-4c75-b492-0a70f6ae7326",
   "metadata": {},
   "source": [
    "#### 10.Boolean"
   ]
  },
  {
   "cell_type": "code",
   "execution_count": 30,
   "id": "e5ed6e9a-b2ed-4bcb-bc10-db348e5da7ff",
   "metadata": {},
   "outputs": [
    {
     "name": "stdout",
     "output_type": "stream",
     "text": [
      "True <class 'bool'> 140733953165888\n"
     ]
    }
   ],
   "source": [
    "person_age = True\n",
    "print((person_age), type(person_age),id(person_age))"
   ]
  },
  {
   "cell_type": "code",
   "execution_count": null,
   "id": "837685fd-065a-470d-8d60-88a62f7d6c4f",
   "metadata": {},
   "outputs": [],
   "source": []
  }
 ],
 "metadata": {
  "kernelspec": {
   "display_name": "Python 3 (ipykernel)",
   "language": "python",
   "name": "python3"
  },
  "language_info": {
   "codemirror_mode": {
    "name": "ipython",
    "version": 3
   },
   "file_extension": ".py",
   "mimetype": "text/x-python",
   "name": "python",
   "nbconvert_exporter": "python",
   "pygments_lexer": "ipython3",
   "version": "3.11.7"
  }
 },
 "nbformat": 4,
 "nbformat_minor": 5
}
