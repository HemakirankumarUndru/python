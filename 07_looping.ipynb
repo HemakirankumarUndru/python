{
 "cells": [
  {
   "cell_type": "code",
   "execution_count": 1,
   "id": "609d8466-21f8-434f-bab4-51700d532961",
   "metadata": {},
   "outputs": [],
   "source": [
    "int = \"KK VJ MN SP SN\"\n",
    "\n"
   ]
  },
  {
   "cell_type": "code",
   "execution_count": 7,
   "id": "5b2bed6c-e1fa-471c-96bb-4158a5b5556c",
   "metadata": {},
   "outputs": [
    {
     "name": "stdout",
     "output_type": "stream",
     "text": [
      "4\n",
      "2\n",
      "6\n",
      "8\n"
     ]
    }
   ],
   "source": [
    "num_list = [4,2,6,8] # [(0, 2), (1, 3)]\n",
    "target = 10 \n",
    "if idx in num_list :\n",
    "    \n",
    "for idx in num_list :\n",
    "    print(idx)\n"
   ]
  },
  {
   "cell_type": "code",
   "execution_count": null,
   "id": "7fb5ee85-a741-4807-993c-eb7ce84ff48e",
   "metadata": {},
   "outputs": [],
   "source": []
  }
 ],
 "metadata": {
  "kernelspec": {
   "display_name": "Python 3 (ipykernel)",
   "language": "python",
   "name": "python3"
  },
  "language_info": {
   "codemirror_mode": {
    "name": "ipython",
    "version": 3
   },
   "file_extension": ".py",
   "mimetype": "text/x-python",
   "name": "python",
   "nbconvert_exporter": "python",
   "pygments_lexer": "ipython3",
   "version": "3.11.7"
  }
 },
 "nbformat": 4,
 "nbformat_minor": 5
}
