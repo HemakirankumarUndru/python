{
 "cells": [
  {
   "cell_type": "code",
   "execution_count": 53,
   "id": "3d1b7697-ca88-43ee-8a10-8ccf8f4a81d3",
   "metadata": {},
   "outputs": [
    {
     "name": "stdout",
     "output_type": "stream",
     "text": [
      "Kiran\n",
      "kk\n"
     ]
    }
   ],
   "source": [
    "name_1 = 'Kiran'\n",
    "name_2 = 'kk'\n",
    "for mk in name_1, name_2:\n",
    "    print(mk)"
   ]
  },
  {
   "cell_type": "code",
   "execution_count": null,
   "id": "93be555d-9186-4a96-ace9-d5218820d239",
   "metadata": {},
   "outputs": [],
   "source": []
  }
 ],
 "metadata": {
  "kernelspec": {
   "display_name": "Python 3 (ipykernel)",
   "language": "python",
   "name": "python3"
  },
  "language_info": {
   "codemirror_mode": {
    "name": "ipython",
    "version": 3
   },
   "file_extension": ".py",
   "mimetype": "text/x-python",
   "name": "python",
   "nbconvert_exporter": "python",
   "pygments_lexer": "ipython3",
   "version": "3.11.7"
  }
 },
 "nbformat": 4,
 "nbformat_minor": 5
}
