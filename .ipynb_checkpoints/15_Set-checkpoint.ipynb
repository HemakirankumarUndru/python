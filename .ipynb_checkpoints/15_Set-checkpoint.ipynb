{
 "cells": [
  {
   "cell_type": "markdown",
   "id": "ab198d45-5993-48ac-97e0-d0239a05a049",
   "metadata": {},
   "source": [
    "### Set Decleration"
   ]
  },
  {
   "cell_type": "code",
   "execution_count": 1,
   "id": "7de7e4e7-9916-49f1-b758-ad5403a9ead2",
   "metadata": {},
   "outputs": [
    {
     "name": "stdout",
     "output_type": "stream",
     "text": [
      "{}\n"
     ]
    }
   ],
   "source": [
    "set_1 = {}\n",
    "print(set_1)"
   ]
  },
  {
   "cell_type": "code",
   "execution_count": 6,
   "id": "714e41a9-7af5-4249-ad3c-119b5e3517d5",
   "metadata": {},
   "outputs": [
    {
     "name": "stdout",
     "output_type": "stream",
     "text": [
      "{(4, 5), 5}\n"
     ]
    }
   ],
   "source": [
    "set_1 = {(4,5),5}\n",
    "print(set_1)"
   ]
  },
  {
   "cell_type": "code",
   "execution_count": 14,
   "id": "805cb604-bc8e-44da-874b-09f9d3dd6316",
   "metadata": {},
   "outputs": [
    {
     "name": "stdout",
     "output_type": "stream",
     "text": [
      "{(4, 5), 5} {(4, 5), 5} <class 'set'> <class 'set'> 2685453796736 2685439869888\n"
     ]
    }
   ],
   "source": [
    "set_1 = {(4,5),5}\n",
    "set_2 ={(4,5),5}\n",
    "print((set_1),(set_2),type(set_1),type(set_2),id(set_1),id(set_2))"
   ]
  },
  {
   "cell_type": "code",
   "execution_count": 17,
   "id": "109763e4-84d1-4839-868e-50d3cec1305d",
   "metadata": {},
   "outputs": [
    {
     "name": "stdout",
     "output_type": "stream",
     "text": [
      "{} {2, 3} {2} {3}\n"
     ]
    }
   ],
   "source": [
    "set_1 = {}\n",
    "set_2 = {2,3}\n",
    "set_3 = {2,}\n",
    "set_4 = {3,                         }\n",
    "print((set_1),(set_2),(set_3),(set_4))"
   ]
  },
  {
   "cell_type": "markdown",
   "id": "9b89aa94-f19f-47fa-9045-b801c4d97a91",
   "metadata": {},
   "source": [
    "## Set is mutable\n",
    "### If try to add more data in same object then that data will stored same memory address "
   ]
  },
  {
   "cell_type": "code",
   "execution_count": 23,
   "id": "a41ca390-e628-48a2-a912-4c560a0be383",
   "metadata": {},
   "outputs": [
    {
     "name": "stdout",
     "output_type": "stream",
     "text": [
      "{1, 2, 3, 4} <class 'set'> 2685453799200\n",
      "{1, 2, 3, 4, 5} <class 'set'> 2685453799200\n"
     ]
    }
   ],
   "source": [
    "set_1 = {1,2,3,4}\n",
    "print((set_1),type(set_1),id(set_1))\n",
    "set_1.add(5)\n",
    "print((set_1),type(set_1),id(set_1))"
   ]
  },
  {
   "cell_type": "markdown",
   "id": "fd94e428-7e38-42dc-97c6-e291cf4fc991",
   "metadata": {},
   "source": [
    "### Not ordered"
   ]
  },
  {
   "cell_type": "code",
   "execution_count": 26,
   "id": "f2069ce3-e8e1-46f6-bc1d-73d3e831ea03",
   "metadata": {},
   "outputs": [
    {
     "name": "stdout",
     "output_type": "stream",
     "text": [
      "{1, 3, 4, 7} <class 'set'> 2685453799200\n"
     ]
    }
   ],
   "source": [
    "set_1 = {1,7,3,4}\n",
    "print((set_1),type(set_1),id(set_1))"
   ]
  },
  {
   "cell_type": "markdown",
   "id": "bfba5394-9014-4591-b8d5-7f4335b2cf2b",
   "metadata": {},
   "source": [
    "### Can't Slicable"
   ]
  },
  {
   "cell_type": "code",
   "execution_count": 27,
   "id": "16ced859-9621-494b-a9ca-61205164a148",
   "metadata": {},
   "outputs": [
    {
     "ename": "TypeError",
     "evalue": "'set' object is not subscriptable",
     "output_type": "error",
     "traceback": [
      "\u001b[1;31m---------------------------------------------------------------------------\u001b[0m",
      "\u001b[1;31mTypeError\u001b[0m                                 Traceback (most recent call last)",
      "Cell \u001b[1;32mIn[27], line 1\u001b[0m\n\u001b[1;32m----> 1\u001b[0m set_1[\u001b[38;5;241m1\u001b[39m:\u001b[38;5;241m2\u001b[39m]\n",
      "\u001b[1;31mTypeError\u001b[0m: 'set' object is not subscriptable"
     ]
    }
   ],
   "source": [
    "set_1[1:2]"
   ]
  },
  {
   "cell_type": "markdown",
   "id": "b5b10704-dd72-48f9-b0ec-e5828a31eec8",
   "metadata": {},
   "source": [
    "### Duplicated not allowed"
   ]
  },
  {
   "cell_type": "code",
   "execution_count": 32,
   "id": "637c973e-2a06-4366-bf21-ae460c202ab3",
   "metadata": {},
   "outputs": [
    {
     "name": "stdout",
     "output_type": "stream",
     "text": [
      "{1, 3, 4, 7} <class 'set'> 2685453800992\n"
     ]
    }
   ],
   "source": [
    "set_1 ={1,2,3,5,5,6}\n",
    "set_1 = {1,7,3,3,4}\n",
    "print((set_1),type(set_1),id(set_1))"
   ]
  },
  {
   "cell_type": "code",
   "execution_count": 38,
   "id": "7a843c9f-2474-49f3-ae34-4caa06b019b5",
   "metadata": {},
   "outputs": [
    {
     "name": "stdout",
     "output_type": "stream",
     "text": [
      "{1, 2, 3, 4, 5, 6} <class 'set'> 2685453800992\n",
      "{1, 2, 3, 4, 5, 6, 7} <class 'set'> 2685453799648\n"
     ]
    }
   ],
   "source": [
    "set_1 ={1,2,3,5,5,6,4,2,1,4,5,6,   }\n",
    "print((set_1),type(set_1),id(set_1))\n",
    "set_2 = {1,7,3,4,3,4,5,2,6,7}\n",
    "print((set_2),type(set_2),id(set_2))"
   ]
  },
  {
   "cell_type": "markdown",
   "id": "daeed16e-2f3f-4889-9337-6c54183888e9",
   "metadata": {},
   "source": [
    "### Not interned Object\n",
    "#### if try to give same then that value should stored in different memory address"
   ]
  },
  {
   "cell_type": "code",
   "execution_count": 41,
   "id": "02aeb55a-19ba-4b7b-95df-8bc46dac2eeb",
   "metadata": {},
   "outputs": [
    {
     "name": "stdout",
     "output_type": "stream",
     "text": [
      "{1, 2, 3, 4, 5, 6} <class 'set'> 2685453801888\n",
      "{1, 2, 3, 4, 5, 6} <class 'set'> 2685453800544\n"
     ]
    }
   ],
   "source": [
    "set_1 ={1,2,3,5,5,6,4,2,1,4,5,6,   }\n",
    "print((set_1),type(set_1),id(set_1))\n",
    "set_2 = {1,2,3,5,5,6,4,2,1,4,5,6,   }\n",
    "print((set_2),type(set_2),id(set_2))"
   ]
  },
  {
   "cell_type": "markdown",
   "id": "a10935c0-778d-48ac-bab7-b1dcb6407a71",
   "metadata": {},
   "source": [
    "### Not allow the list, set , Dist"
   ]
  },
  {
   "cell_type": "code",
   "execution_count": 43,
   "id": "821842d1-4607-45c8-902e-8adbad4c1d0b",
   "metadata": {},
   "outputs": [
    {
     "ename": "TypeError",
     "evalue": "unhashable type: 'list'",
     "output_type": "error",
     "traceback": [
      "\u001b[1;31m---------------------------------------------------------------------------\u001b[0m",
      "\u001b[1;31mTypeError\u001b[0m                                 Traceback (most recent call last)",
      "Cell \u001b[1;32mIn[43], line 1\u001b[0m\n\u001b[1;32m----> 1\u001b[0m sett_1 \u001b[38;5;241m=\u001b[39m{[\u001b[38;5;241m1\u001b[39m,\u001b[38;5;241m2\u001b[39m],\u001b[38;5;241m4\u001b[39m}\n\u001b[0;32m      2\u001b[0m \u001b[38;5;28mprint\u001b[39m((set_1),\u001b[38;5;28mtype\u001b[39m(set_1),\u001b[38;5;28mid\u001b[39m(set_1))\n",
      "\u001b[1;31mTypeError\u001b[0m: unhashable type: 'list'"
     ]
    }
   ],
   "source": [
    "sett_1 ={[1,2],4}\n",
    "print((set_1),type(set_1),id(set_1))"
   ]
  },
  {
   "cell_type": "markdown",
   "id": "b0d31730-6e6c-4076-a92a-cff1033db736",
   "metadata": {},
   "source": [
    "### Function in set "
   ]
  },
  {
   "cell_type": "code",
   "execution_count": 45,
   "id": "c3b77e2e-d7c5-447b-8648-4d9c1c1f42f8",
   "metadata": {},
   "outputs": [
    {
     "name": "stdout",
     "output_type": "stream",
     "text": [
      "{1, 2, 3, 4, 5}\n"
     ]
    }
   ],
   "source": [
    "set_1 = {1,2,3,4}\n",
    "set_1.add(5)\n",
    "print(set_1)"
   ]
  },
  {
   "cell_type": "code",
   "execution_count": 46,
   "id": "4ac69c03-f8e0-4935-a03e-5dd32316970a",
   "metadata": {},
   "outputs": [
    {
     "name": "stdout",
     "output_type": "stream",
     "text": [
      "{1, 2, 3, 4, 5}\n"
     ]
    }
   ],
   "source": [
    "set_1 = {1,2,3,4}\n",
    "set_1.add(5)\n",
    "print(set_1)"
   ]
  },
  {
   "cell_type": "code",
   "execution_count": 12,
   "id": "60c352ed-7bfc-4677-af74-ff498ad2af84",
   "metadata": {},
   "outputs": [
    {
     "name": "stdout",
     "output_type": "stream",
     "text": [
      "{8, 6, 7} 2114219735776\n",
      "{8, 6, 7} 2114219735104\n"
     ]
    }
   ],
   "source": [
    "set_1 = {6,7,8}\n",
    "print(set_1,id(set_1))\n",
    "set_2 = set_1.copy()\n",
    "print(set_2,id(set_2))"
   ]
  },
  {
   "cell_type": "code",
   "execution_count": 76,
   "id": "d47d293e-e826-40c3-bf2c-ed3fd14b7929",
   "metadata": {},
   "outputs": [
    {
     "name": "stdout",
     "output_type": "stream",
     "text": [
      "{1, 2, 3, 4}\n"
     ]
    }
   ],
   "source": [
    "set_1 ={1,2,3,4,5,6}\n",
    "set_2 = {9,8,7,6,5}\n",
    "print(set_1.difference(set_2))\n"
   ]
  },
  {
   "cell_type": "code",
   "execution_count": 64,
   "id": "19334f45-1bb4-4220-8ade-d4b89f30affd",
   "metadata": {},
   "outputs": [
    {
     "name": "stdout",
     "output_type": "stream",
     "text": [
      "None\n"
     ]
    }
   ],
   "source": [
    "set_1 = {1,2,6}\n",
    "set_2 = {7,6,5}\n",
    "print(set_1.difference_update(set_2))\n"
   ]
  },
  {
   "cell_type": "code",
   "execution_count": 66,
   "id": "9458a4ce-1524-428d-89dc-9cb647d185b9",
   "metadata": {},
   "outputs": [
    {
     "name": "stdout",
     "output_type": "stream",
     "text": [
      "None\n",
      "{1, 2} {5, 6, 7}\n"
     ]
    }
   ],
   "source": [
    "set_1 = {1,2,6,7}\n",
    "set_2 = {7,6,5}\n",
    "print(set_1.difference_update(set_2))\n",
    "print(set_1,set_2)"
   ]
  },
  {
   "cell_type": "code",
   "execution_count": 67,
   "id": "b22e7a88-f1b1-4396-b474-b93a411041ed",
   "metadata": {},
   "outputs": [
    {
     "name": "stdout",
     "output_type": "stream",
     "text": [
      "None\n"
     ]
    }
   ],
   "source": [
    "set_1 = {1,2,6,7}\n",
    "print(set_1.discard(7))"
   ]
  },
  {
   "cell_type": "code",
   "execution_count": 3,
   "id": "5018370f-9aba-4d67-bd4c-f9aa90653f08",
   "metadata": {},
   "outputs": [
    {
     "name": "stdout",
     "output_type": "stream",
     "text": [
      "{1, 2, 6}\n"
     ]
    }
   ],
   "source": [
    "set_2 = {1,2,6,7}\n",
    "set_2.discard(7)\n",
    "print(set_2)"
   ]
  },
  {
   "cell_type": "code",
   "execution_count": 4,
   "id": "b8796f7e-3ec6-455b-a6f4-e776f3e2802f",
   "metadata": {},
   "outputs": [
    {
     "name": "stdout",
     "output_type": "stream",
     "text": [
      "{6, 7}\n"
     ]
    }
   ],
   "source": [
    "set_1 = {1,2,6,7}\n",
    "set_2 = {7,6,5}\n",
    "print(set_1.intersection(set_2)) \n"
   ]
  },
  {
   "cell_type": "code",
   "execution_count": 5,
   "id": "d8ac7c2a-8766-4087-9c91-f5ea67ec2710",
   "metadata": {},
   "outputs": [
    {
     "name": "stdout",
     "output_type": "stream",
     "text": [
      "{6, 7} {5, 6, 7}\n",
      "(None, {5, 6, 7})\n"
     ]
    }
   ],
   "source": [
    "set_1 = {1,2,6,7}\n",
    "set_2 = {7,6,5}\n",
    "set_1.intersection_update(set_2)\n",
    "print(set_1,set_2)"
   ]
  },
  {
   "cell_type": "code",
   "execution_count": 85,
   "id": "716b153b-76fd-436e-b703-203efd4fadda",
   "metadata": {},
   "outputs": [
    {
     "name": "stdout",
     "output_type": "stream",
     "text": [
      "{2, 6, 7} {6, 7}\n"
     ]
    }
   ],
   "source": [
    "set_1 = {1,2,6,7}\n",
    "set_2 = {7,6,5}\n",
    "set_1.pop(), set_2.pop()\n",
    "print(set_1,set_2)"
   ]
  },
  {
   "cell_type": "code",
   "execution_count": 87,
   "id": "240ae4cf-5c23-4813-86a6-8f3ec980faea",
   "metadata": {},
   "outputs": [
    {
     "name": "stdout",
     "output_type": "stream",
     "text": [
      "{1, 6, 7} {5, 7}\n"
     ]
    }
   ],
   "source": [
    "set_1 = {1,2,6,7}\n",
    "set_2 = {7,6,5}\n",
    "set_1.remove(2), set_2.remove(6)\n",
    "print(set_1,set_2)"
   ]
  },
  {
   "cell_type": "code",
   "execution_count": 88,
   "id": "ed7775c3-978b-465a-96e6-020102252134",
   "metadata": {},
   "outputs": [
    {
     "name": "stdout",
     "output_type": "stream",
     "text": [
      "set() set()\n"
     ]
    }
   ],
   "source": [
    "set_1 = {1,2,6,7}\n",
    "set_2 = {7,6,5}\n",
    "set_1.clear(), set_2.clear()\n",
    "print(set_1,set_2)"
   ]
  },
  {
   "cell_type": "code",
   "execution_count": null,
   "id": "664a6e28-972c-4539-8c2a-c760cd57eefa",
   "metadata": {},
   "outputs": [],
   "source": []
  }
 ],
 "metadata": {
  "kernelspec": {
   "display_name": "Python 3 (ipykernel)",
   "language": "python",
   "name": "python3"
  },
  "language_info": {
   "codemirror_mode": {
    "name": "ipython",
    "version": 3
   },
   "file_extension": ".py",
   "mimetype": "text/x-python",
   "name": "python",
   "nbconvert_exporter": "python",
   "pygments_lexer": "ipython3",
   "version": "3.11.7"
  }
 },
 "nbformat": 4,
 "nbformat_minor": 5
}
