{
 "cells": [
  {
   "cell_type": "markdown",
   "id": "2c8ce1b9-4499-4e83-8d63-377d14224896",
   "metadata": {},
   "source": [
    "## Operators"
   ]
  },
  {
   "cell_type": "markdown",
   "id": "e93a13ab-a7eb-4a7c-b10a-ccb6e5ea6502",
   "metadata": {},
   "source": [
    "### 1.Arithmetic "
   ]
  },
  {
   "cell_type": "code",
   "execution_count": 1,
   "id": "7898e696-5c7b-4c02-8caa-f96b551c91c3",
   "metadata": {},
   "outputs": [
    {
     "name": "stdout",
     "output_type": "stream",
     "text": [
      "6000 <class 'int'> <class 'int'> 2261613850192 2261613839664\n"
     ]
    }
   ],
   "source": [
    "sal_1 = 4000\n",
    "sal_2 = 2000\n",
    "print(sal_1  + sal_2, type(sal_1),type(sal_2),id(sal_1),id(sal_2))"
   ]
  },
  {
   "cell_type": "code",
   "execution_count": 2,
   "id": "b5dcec96-ea63-4830-a516-122aa2f39ef5",
   "metadata": {},
   "outputs": [
    {
     "name": "stdout",
     "output_type": "stream",
     "text": [
      "1000 <class 'int'> <class 'int'> 2261613839824 2261613839280\n"
     ]
    }
   ],
   "source": [
    "sal_1 = 3000\n",
    "sal_2 = 2000\n",
    "print(sal_1  - sal_2, type(sal_1),type(sal_2),id(sal_1),id(sal_2))"
   ]
  },
  {
   "cell_type": "code",
   "execution_count": 3,
   "id": "f7f1c7e5-561b-4363-bd26-16bbfcdbfd76",
   "metadata": {},
   "outputs": [
    {
     "name": "stdout",
     "output_type": "stream",
     "text": [
      "6000000 <class 'int'> <class 'int'> 2261613839376 2261613844176\n"
     ]
    }
   ],
   "source": [
    "sal_1 = 3000\n",
    "sal_2 = 2000\n",
    "print(sal_1 * sal_2, type(sal_1),type(sal_2),id(sal_1),id(sal_2))"
   ]
  },
  {
   "cell_type": "code",
   "execution_count": 4,
   "id": "c168bc8b-61ab-45c5-af40-97df6c2449a2",
   "metadata": {},
   "outputs": [
    {
     "name": "stdout",
     "output_type": "stream",
     "text": [
      "3.0 <class 'int'> <class 'int'> 2261613840592 2261613851312\n"
     ]
    }
   ],
   "source": [
    "sal_1 = 6000\n",
    "sal_2 = 2000\n",
    "print(sal_1  / sal_2, type(sal_1),type(sal_2),id(sal_1),id(sal_2))"
   ]
  },
  {
   "cell_type": "code",
   "execution_count": 5,
   "id": "6f2dc4fa-5d4b-4648-a8ca-7f0d6fed0d6f",
   "metadata": {},
   "outputs": [
    {
     "name": "stdout",
     "output_type": "stream",
     "text": [
      "2 <class 'int'> <class 'int'> 2261613840464 2261613839952\n"
     ]
    }
   ],
   "source": [
    "sal_1 = 4000\n",
    "sal_2 = 2000\n",
    "print(sal_1  // sal_2, type(sal_1),type(sal_2),id(sal_1),id(sal_2))"
   ]
  },
  {
   "cell_type": "code",
   "execution_count": 6,
   "id": "c28acdd3-8a7d-4a6a-bd79-a99fef4f3d2d",
   "metadata": {},
   "outputs": [
    {
     "name": "stdout",
     "output_type": "stream",
     "text": [
      "1000 <class 'int'> <class 'int'> 2261613840304 2261613840336\n"
     ]
    }
   ],
   "source": [
    "sal_1 = 3000\n",
    "sal_2 = 2000\n",
    "print(sal_1  % sal_2, type(sal_1),type(sal_2),id(sal_1),id(sal_2))"
   ]
  },
  {
   "cell_type": "code",
   "execution_count": 7,
   "id": "c37e7daf-e2e0-4d5c-a17d-f648efeb7aa4",
   "metadata": {},
   "outputs": [
    {
     "name": "stdout",
     "output_type": "stream",
     "text": [
      "9\n"
     ]
    }
   ],
   "source": [
    "sal_1 = 3\n",
    "power = 2\n",
    "print(sal_1  ** power)"
   ]
  },
  {
   "cell_type": "markdown",
   "id": "ca4c7ddd-3019-45f8-83cb-5ecd428bb5f3",
   "metadata": {},
   "source": [
    "### 2.Comparison "
   ]
  },
  {
   "cell_type": "code",
   "execution_count": 8,
   "id": "7e5e2c27-777d-4e3a-9cdc-5a991e0a8ba9",
   "metadata": {},
   "outputs": [
    {
     "name": "stdout",
     "output_type": "stream",
     "text": [
      "He is eligible for marriage:True\n"
     ]
    }
   ],
   "source": [
    "age = 20\n",
    "major_age = 18\n",
    "print(f'He is eligible for marriage:{age>major_age}')"
   ]
  },
  {
   "cell_type": "code",
   "execution_count": 9,
   "id": "49e6bb3c-293d-41d8-a40c-09bd290b509b",
   "metadata": {},
   "outputs": [
    {
     "name": "stdout",
     "output_type": "stream",
     "text": [
      "He not eligible for marriage:True\n"
     ]
    }
   ],
   "source": [
    "age = 10\n",
    "major_age = 18\n",
    "print(f'He not eligible for marriage:{age < major_age}')"
   ]
  },
  {
   "cell_type": "code",
   "execution_count": 10,
   "id": "64183a6e-39b8-43ff-abce-e1e6af6e7993",
   "metadata": {},
   "outputs": [
    {
     "name": "stdout",
     "output_type": "stream",
     "text": [
      "He is eligible for marriage:True\n"
     ]
    }
   ],
   "source": [
    "age = 18\n",
    "major_age = 18\n",
    "print(f'He is eligible for marriage:{age <= major_age}')"
   ]
  },
  {
   "cell_type": "code",
   "execution_count": 11,
   "id": "a57f999c-e6a4-4308-8dcb-c370f9326486",
   "metadata": {},
   "outputs": [
    {
     "name": "stdout",
     "output_type": "stream",
     "text": [
      "He is kid:True\n"
     ]
    }
   ],
   "source": [
    "age = 10\n",
    "Kid_cut_off = 10\n",
    "print(f'He is kid:{age >= Kid_cut_off}')"
   ]
  },
  {
   "cell_type": "markdown",
   "id": "79dfa71c-dbcc-40a4-bdb9-4ba515c02631",
   "metadata": {},
   "source": [
    "### 3. Assignment "
   ]
  },
  {
   "cell_type": "code",
   "execution_count": 12,
   "id": "207a55f7-968a-49d5-95f3-aa8693b1cf46",
   "metadata": {},
   "outputs": [
    {
     "name": "stdout",
     "output_type": "stream",
     "text": [
      "30\n"
     ]
    }
   ],
   "source": [
    "age = 30 \n",
    "print(age) "
   ]
  },
  {
   "cell_type": "code",
   "execution_count": 13,
   "id": "b474ec2e-4b2e-4674-b407-77480680d23b",
   "metadata": {},
   "outputs": [
    {
     "name": "stdout",
     "output_type": "stream",
     "text": [
      "33\n"
     ]
    }
   ],
   "source": [
    "age += 3\n",
    "print (age)"
   ]
  },
  {
   "cell_type": "code",
   "execution_count": 14,
   "id": "c5f04b79-9c19-45f9-bad9-f82d18165490",
   "metadata": {},
   "outputs": [
    {
     "name": "stdout",
     "output_type": "stream",
     "text": [
      "30\n"
     ]
    }
   ],
   "source": [
    "age -= 3\n",
    "print (age)"
   ]
  },
  {
   "cell_type": "code",
   "execution_count": 15,
   "id": "e633825d-8b88-43b1-90c7-4fffc40052b6",
   "metadata": {},
   "outputs": [
    {
     "name": "stdout",
     "output_type": "stream",
     "text": [
      "10.0\n"
     ]
    }
   ],
   "source": [
    "age /= 3\n",
    "print (age)"
   ]
  },
  {
   "cell_type": "code",
   "execution_count": 16,
   "id": "85af2fa8-f585-4b1e-937a-9a23003f7ba7",
   "metadata": {},
   "outputs": [
    {
     "name": "stdout",
     "output_type": "stream",
     "text": [
      "3.0\n"
     ]
    }
   ],
   "source": [
    "age //= 3\n",
    "print (age)"
   ]
  },
  {
   "cell_type": "markdown",
   "id": "7e9fb98c-b8bc-4498-97f0-af47c5f5a98f",
   "metadata": {},
   "source": [
    "### 4.Logical"
   ]
  },
  {
   "cell_type": "code",
   "execution_count": 17,
   "id": "c1c9814c-7f1e-4546-a78f-13473370c8eb",
   "metadata": {},
   "outputs": [
    {
     "name": "stdout",
     "output_type": "stream",
     "text": [
      "He is young guy : False\n"
     ]
    }
   ],
   "source": [
    "age = 20 \n",
    "min_numbers = 4\n",
    "max_numbers = 18\n",
    "\n",
    "print (f\"He is young guy : {age >= min_numbers and age <= max_numbers}\")"
   ]
  },
  {
   "cell_type": "code",
   "execution_count": 18,
   "id": "43d3d27e-fd12-4435-87a8-bcc1b0fb8b68",
   "metadata": {},
   "outputs": [
    {
     "name": "stdout",
     "output_type": "stream",
     "text": [
      "He is young guy : True\n"
     ]
    }
   ],
   "source": [
    "age = 20 \n",
    "min_numbers = 15\n",
    "max_numbers = 15\n",
    "\n",
    "print (f\"He is young guy : {age >= min_numbers or age <= max_numbers}\")"
   ]
  },
  {
   "cell_type": "code",
   "execution_count": 19,
   "id": "66c5be18-0ffc-47d2-b0d1-d6a1a246a78d",
   "metadata": {},
   "outputs": [
    {
     "name": "stdout",
     "output_type": "stream",
     "text": [
      "He is young guy : False\n"
     ]
    }
   ],
   "source": [
    "age = 20 \n",
    "min_numbers = 15\n",
    "max_numbers = 25\n",
    "\n",
    "print (f\"He is young guy : {not (age >= min_numbers and age <= max_numbers)}\")"
   ]
  },
  {
   "cell_type": "code",
   "execution_count": 20,
   "id": "5824e75e-26e2-42d4-8372-533b392ad9e7",
   "metadata": {},
   "outputs": [
    {
     "name": "stdout",
     "output_type": "stream",
     "text": [
      "He is young guy : False\n"
     ]
    }
   ],
   "source": [
    "age = 20 \n",
    "min_numbers = 15\n",
    "max_numbers = 25\n",
    "\n",
    "print (f\"He is young guy : {not (age >= min_numbers or age <= max_numbers)}\")"
   ]
  },
  {
   "cell_type": "code",
   "execution_count": 21,
   "id": "7928fdfe-f044-4593-a5ef-f4627ab9ae0b",
   "metadata": {},
   "outputs": [
    {
     "name": "stdout",
     "output_type": "stream",
     "text": [
      "He is young guy : True\n"
     ]
    }
   ],
   "source": [
    "age = 20 \n",
    "min_numbers = 15\n",
    "max_numbers = 25\n",
    "\n",
    "print (f\"He is young guy : {not (age == min_numbers and age == max_numbers)}\")"
   ]
  },
  {
   "cell_type": "code",
   "execution_count": 22,
   "id": "6fe5ff91-eb83-4bcf-97e0-17bfc6e22fd9",
   "metadata": {},
   "outputs": [
    {
     "name": "stdin",
     "output_type": "stream",
     "text": [
      "Enter first name :  30\n",
      "Enter last name:  20\n"
     ]
    },
    {
     "name": "stdout",
     "output_type": "stream",
     "text": [
      "Signup the page :False\n"
     ]
    }
   ],
   "source": [
    "first_name = input (\"Enter first name : \")\n",
    "last_name = input(\"Enter last name: \")\n",
    "print(f\"Signup the page :{first_name == 'kiran' and last_name == 'kumar'}\")"
   ]
  },
  {
   "cell_type": "code",
   "execution_count": 23,
   "id": "e528405d-167d-4493-8ded-6c32f8bdc3fe",
   "metadata": {},
   "outputs": [
    {
     "name": "stdin",
     "output_type": "stream",
     "text": [
      "Enter first name :  kiran\n",
      "Enter last name:  kiran\n"
     ]
    },
    {
     "name": "stdout",
     "output_type": "stream",
     "text": [
      "Signup the page :True\n"
     ]
    }
   ],
   "source": [
    "first_name = input (\"Enter first name : \")\n",
    "last_name = input(\"Enter last name: \")\n",
    "print(f\"Signup the page :{first_name == 'kiran' or last_name == 'kumar'}\")"
   ]
  },
  {
   "cell_type": "code",
   "execution_count": 24,
   "id": "5b8349e9-435b-4818-af1c-e1631fa762da",
   "metadata": {},
   "outputs": [
    {
     "name": "stdin",
     "output_type": "stream",
     "text": [
      "Enter age: 30\n"
     ]
    },
    {
     "name": "stdout",
     "output_type": "stream",
     "text": [
      "He is kid :False\n",
      "He is younger : False\n",
      "He is men : True \n"
     ]
    }
   ],
   "source": [
    "age = int(input(\"Enter age:\"))\n",
    "kid_age =5\n",
    "younger_age = 18\n",
    "men_age = 25\n",
    "print(f\"\"\"He is kid :{age >=kid_age and age <=kid_age}\n",
    "He is younger : {age >= younger_age and age <= younger_age}\n",
    "He is men : {age>= men_age or age <= men_age} \"\"\")"
   ]
  },
  {
   "cell_type": "markdown",
   "id": "2f21dcd9-45ff-4ba8-93f7-4e1c8417ae93",
   "metadata": {},
   "source": [
    "### 5.Identical"
   ]
  },
  {
   "cell_type": "code",
   "execution_count": 25,
   "id": "e9103b64-5fe3-4378-994f-1a310d4233e7",
   "metadata": {},
   "outputs": [
    {
     "data": {
      "text/plain": [
       "Ellipsis"
      ]
     },
     "execution_count": 25,
     "metadata": {},
     "output_type": "execute_result"
    }
   ],
   "source": [
    "..."
   ]
  },
  {
   "cell_type": "code",
   "execution_count": null,
   "id": "a307a9e5-ffe5-4834-a305-616c41a2e2f3",
   "metadata": {},
   "outputs": [],
   "source": []
  }
 ],
 "metadata": {
  "kernelspec": {
   "display_name": "Python 3 (ipykernel)",
   "language": "python",
   "name": "python3"
  },
  "language_info": {
   "codemirror_mode": {
    "name": "ipython",
    "version": 3
   },
   "file_extension": ".py",
   "mimetype": "text/x-python",
   "name": "python",
   "nbconvert_exporter": "python",
   "pygments_lexer": "ipython3",
   "version": "3.11.7"
  }
 },
 "nbformat": 4,
 "nbformat_minor": 5
}
