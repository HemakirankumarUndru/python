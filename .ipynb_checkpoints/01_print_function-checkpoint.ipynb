{
 "cells": [
  {
   "cell_type": "code",
   "execution_count": 1,
   "id": "36f8c2c2-7fef-409b-99b3-ba7f26113484",
   "metadata": {},
   "outputs": [
    {
     "name": "stdout",
     "output_type": "stream",
     "text": [
      "Hellow world\n"
     ]
    }
   ],
   "source": [
    "print(\"Hellow world\")"
   ]
  },
  {
   "cell_type": "code",
   "execution_count": 2,
   "id": "532fea2c-0a2a-49f0-b115-48a5fee8860c",
   "metadata": {},
   "outputs": [
    {
     "name": "stdout",
     "output_type": "stream",
     "text": [
      "Mr_KK\n"
     ]
    }
   ],
   "source": [
    "name = 'Mr_KK'\n",
    "print(name)"
   ]
  },
  {
   "cell_type": "code",
   "execution_count": null,
   "id": "ad86f6e3-f73e-45a6-81ff-1c7bbb1a3234",
   "metadata": {},
   "outputs": [],
   "source": []
  }
 ],
 "metadata": {
  "kernelspec": {
   "display_name": "Python 3 (ipykernel)",
   "language": "python",
   "name": "python3"
  },
  "language_info": {
   "codemirror_mode": {
    "name": "ipython",
    "version": 3
   },
   "file_extension": ".py",
   "mimetype": "text/x-python",
   "name": "python",
   "nbconvert_exporter": "python",
   "pygments_lexer": "ipython3",
   "version": "3.11.7"
  }
 },
 "nbformat": 4,
 "nbformat_minor": 5
}
