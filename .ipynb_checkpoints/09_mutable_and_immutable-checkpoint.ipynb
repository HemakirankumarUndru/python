{
 "cells": [
  {
   "cell_type": "markdown",
   "id": "ef4706c5-59dd-49ec-8294-211340adbee0",
   "metadata": {},
   "source": [
    "### Mutable"
   ]
  },
  {
   "cell_type": "code",
   "execution_count": 4,
   "id": "9fb7a633-7fd8-4347-afcd-7fabdbf3ef26",
   "metadata": {},
   "outputs": [
    {
     "name": "stdout",
     "output_type": "stream",
     "text": [
      "1445437570816\n"
     ]
    }
   ],
   "source": [
    "no_of_persons = [33, 22, 11]\n",
    "print(id(no_of_persons))\n"
   ]
  },
  {
   "cell_type": "code",
   "execution_count": 6,
   "id": "8e33e2ab-49c5-4862-a466-b8dd1896bec3",
   "metadata": {},
   "outputs": [
    {
     "name": "stdout",
     "output_type": "stream",
     "text": [
      "1445437570816\n"
     ]
    }
   ],
   "source": [
    "no_of_persons.append(44)\n",
    "print(id(no_of_persons))"
   ]
  },
  {
   "cell_type": "markdown",
   "id": "9c91404e-9989-4c54-9ea9-4c3d50439cef",
   "metadata": {},
   "source": [
    "### Immutable"
   ]
  },
  {
   "cell_type": "code",
   "execution_count": 8,
   "id": "18bd201c-f154-4f7f-856e-d3e91c271920",
   "metadata": {},
   "outputs": [
    {
     "name": "stdout",
     "output_type": "stream",
     "text": [
      "Mr_KK 1445443435824\n"
     ]
    }
   ],
   "source": [
    "name = 'Mr_KK'\n",
    "print(name, id(name))"
   ]
  },
  {
   "cell_type": "code",
   "execution_count": 12,
   "id": "75575625-f972-4aea-96db-fe751e38e0ea",
   "metadata": {},
   "outputs": [
    {
     "name": "stdout",
     "output_type": "stream",
     "text": [
      "2116190668336\n"
     ]
    }
   ],
   "source": [
    "name = 'MK'\n",
    "print(id(name))"
   ]
  },
  {
   "cell_type": "code",
   "execution_count": 1,
   "id": "7cc70a55-0870-4dbc-9d80-0dc48bc3bba7",
   "metadata": {},
   "outputs": [
    {
     "name": "stdout",
     "output_type": "stream",
     "text": [
      "MR_KK\n",
      "2827093539824\n"
     ]
    }
   ],
   "source": [
    "name = 'MR_KK'\n",
    "print(name)\n",
    "print(id(name))"
   ]
  },
  {
   "cell_type": "code",
   "execution_count": 2,
   "id": "047a414e-d8ce-4dd2-973c-ddbb6eebd591",
   "metadata": {},
   "outputs": [
    {
     "name": "stdout",
     "output_type": "stream",
     "text": [
      "MR_KKMk\n",
      "2827093667632\n"
     ]
    }
   ],
   "source": [
    "name += 'Mk'\n",
    "print(name)\n",
    "print(id(name))"
   ]
  },
  {
   "cell_type": "code",
   "execution_count": null,
   "id": "7f4d8b81-1ca1-49ae-85fa-13d64c14bffb",
   "metadata": {},
   "outputs": [],
   "source": []
  }
 ],
 "metadata": {
  "kernelspec": {
   "display_name": "Python 3 (ipykernel)",
   "language": "python",
   "name": "python3"
  },
  "language_info": {
   "codemirror_mode": {
    "name": "ipython",
    "version": 3
   },
   "file_extension": ".py",
   "mimetype": "text/x-python",
   "name": "python",
   "nbconvert_exporter": "python",
   "pygments_lexer": "ipython3",
   "version": "3.11.7"
  }
 },
 "nbformat": 4,
 "nbformat_minor": 5
}
