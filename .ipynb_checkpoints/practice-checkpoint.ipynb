{
 "cells": [
  {
   "cell_type": "markdown",
   "id": "db3a21c6-bd28-4ad5-935d-1002eacac901",
   "metadata": {},
   "source": [
    "# Type function"
   ]
  },
  {
   "cell_type": "code",
   "execution_count": 1,
   "id": "2f741630-3761-4814-9907-c1410a2e53ad",
   "metadata": {},
   "outputs": [
    {
     "name": "stdout",
     "output_type": "stream",
     "text": [
      "Mr_kk\n"
     ]
    }
   ],
   "source": [
    "name = 'Mr_kk'\n",
    "print(name)"
   ]
  },
  {
   "cell_type": "code",
   "execution_count": null,
   "id": "434112a7-286e-4608-b61e-8ae27a95fccd",
   "metadata": {},
   "outputs": [],
   "source": []
  }
 ],
 "metadata": {
  "kernelspec": {
   "display_name": "Python 3 (ipykernel)",
   "language": "python",
   "name": "python3"
  },
  "language_info": {
   "codemirror_mode": {
    "name": "ipython",
    "version": 3
   },
   "file_extension": ".py",
   "mimetype": "text/x-python",
   "name": "python",
   "nbconvert_exporter": "python",
   "pygments_lexer": "ipython3",
   "version": "3.11.7"
  }
 },
 "nbformat": 4,
 "nbformat_minor": 5
}
