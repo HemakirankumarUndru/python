{
 "cells": [
  {
   "cell_type": "code",
   "execution_count": 2,
   "id": "0d36364f-6aff-4d24-8752-29336f27ce18",
   "metadata": {},
   "outputs": [
    {
     "name": "stdout",
     "output_type": "stream",
     "text": [
      "10 Mr_KK\n"
     ]
    }
   ],
   "source": [
    "x = 10\n",
    "y = 'Mr_KK'\n",
    "print(x , y)"
   ]
  },
  {
   "cell_type": "code",
   "execution_count": 4,
   "id": "e3ff7f75-25fe-43c9-a267-8f5e9a7e6df2",
   "metadata": {},
   "outputs": [
    {
     "name": "stdout",
     "output_type": "stream",
     "text": [
      "MK\n"
     ]
    }
   ],
   "source": [
    "x = 10 # x type of int funtion \n",
    "x = 'Mr_KK' # x type of str funtion \n",
    "x = 'MK'\n",
    "print(x)"
   ]
  },
  {
   "cell_type": "code",
   "execution_count": 10,
   "id": "e417c300-aafe-4ece-be97-5cf42e0d6075",
   "metadata": {},
   "outputs": [],
   "source": [
    "# Casting"
   ]
  },
  {
   "cell_type": "code",
   "execution_count": null,
   "id": "785397d6-c2ee-42d9-913c-a1dfd2411806",
   "metadata": {},
   "outputs": [],
   "source": []
  }
 ],
 "metadata": {
  "kernelspec": {
   "display_name": "Python 3 (ipykernel)",
   "language": "python",
   "name": "python3"
  },
  "language_info": {
   "codemirror_mode": {
    "name": "ipython",
    "version": 3
   },
   "file_extension": ".py",
   "mimetype": "text/x-python",
   "name": "python",
   "nbconvert_exporter": "python",
   "pygments_lexer": "ipython3",
   "version": "3.11.7"
  }
 },
 "nbformat": 4,
 "nbformat_minor": 5
}
