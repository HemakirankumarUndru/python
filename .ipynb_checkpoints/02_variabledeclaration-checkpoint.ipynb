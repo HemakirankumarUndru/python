{
 "cells": [
  {
   "cell_type": "markdown",
   "id": "d38c735a-b710-435e-91c3-5b5a0d73aa3f",
   "metadata": {},
   "source": [
    "### Assigning Variables \n",
    "    Int, Str,Float"
   ]
  },
  {
   "cell_type": "code",
   "execution_count": 32,
   "id": "8414521c-4a16-4d43-b665-10c42daa6fe9",
   "metadata": {},
   "outputs": [
    {
     "name": "stdout",
     "output_type": "stream",
     "text": [
      "10\n",
      "Mr_KK\n",
      "3.11\n"
     ]
    }
   ],
   "source": [
    "x = 10 #int\n",
    "y = 'Mr_KK' # Str\n",
    "z = 3.11 # float\n",
    "print(x)\n",
    "print(y)\n",
    "print(z)"
   ]
  },
  {
   "cell_type": "markdown",
   "id": "28911f98-9729-484e-8391-6b031087608a",
   "metadata": {},
   "source": [
    "### Casting\n",
    "    Python has no command for declaring a variable.\n",
    "    A variable is created the moment you first assign a value to it.t."
   ]
  },
  {
   "cell_type": "code",
   "execution_count": 30,
   "id": "095268cc-89d8-44c6-b2b9-d93ceef3ba30",
   "metadata": {},
   "outputs": [
    {
     "name": "stdout",
     "output_type": "stream",
     "text": [
      "<class 'int'>\n",
      "<class 'str'>\n",
      "<class 'float'>\n",
      "<class 'complex'>\n",
      "<class 'tuple'>\n",
      "<class 'list'>\n",
      "<class 'set'>\n"
     ]
    }
   ],
   "source": [
    "x = 20\n",
    "y = \"Mr_KK\"\n",
    "z = 30.0\n",
    "l = 3+2j\n",
    "x1 = (1,2,3)\n",
    "y1 = [2,3,4]\n",
    "z1 = {3,3,6}\n",
    "print (type(x))\n",
    "print (type(y))\n",
    "print (type(z))\n",
    "print (type(l))\n",
    "print (type(x1))\n",
    "print (type(y1))\n",
    "print (type(z1))"
   ]
  },
  {
   "cell_type": "markdown",
   "id": "b3d17212-4135-4d39-81ad-4447118354d6",
   "metadata": {},
   "source": [
    "### Multi words Variable Names \n",
    "    Camel Case: Each word, except the first, starts with a capital letter(myVariableName)\n",
    "    Pascal Case: Each word starts with a capital letter(MyVariableName)\n",
    "    Snake Case : Each word is separated by an underscore character(my_variable_name )"
   ]
  },
  {
   "cell_type": "code",
   "execution_count": 38,
   "id": "0d3fc233-21b2-461d-a964-eaccfa661526",
   "metadata": {},
   "outputs": [
    {
     "name": "stdout",
     "output_type": "stream",
     "text": [
      "Kiran\n",
      "Kumar\n",
      "Mr_KK\n"
     ]
    }
   ],
   "source": [
    "myVariableName = 'Kiran'\n",
    "MyVariableName = 'Kumar'\n",
    "my_variable_name = 'Mr_KK'\n",
    "print (myVariableName)\n",
    "print(MyVariableName)\n",
    "print(my_variable_name)"
   ]
  },
  {
   "cell_type": "code",
   "execution_count": null,
   "id": "52b3911c-8396-4810-baff-2280403e6429",
   "metadata": {},
   "outputs": [],
   "source": []
  }
 ],
 "metadata": {
  "kernelspec": {
   "display_name": "Python 3 (ipykernel)",
   "language": "python",
   "name": "python3"
  },
  "language_info": {
   "codemirror_mode": {
    "name": "ipython",
    "version": 3
   },
   "file_extension": ".py",
   "mimetype": "text/x-python",
   "name": "python",
   "nbconvert_exporter": "python",
   "pygments_lexer": "ipython3",
   "version": "3.11.7"
  }
 },
 "nbformat": 4,
 "nbformat_minor": 5
}
