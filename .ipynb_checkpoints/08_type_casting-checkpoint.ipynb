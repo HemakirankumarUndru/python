{
 "cells": [
  {
   "cell_type": "markdown",
   "id": "19e50783-d6b9-4598-b5c4-f8836af46436",
   "metadata": {},
   "source": [
    "### Type_Casting"
   ]
  },
  {
   "cell_type": "code",
   "execution_count": 1,
   "id": "6bb2e5a3-2456-4fc3-bb86-ea779cd71955",
   "metadata": {},
   "outputs": [
    {
     "name": "stdout",
     "output_type": "stream",
     "text": [
      "<class 'int'>\n",
      "<class 'int'>\n"
     ]
    }
   ],
   "source": [
    "## int to int\n",
    "num_of_students = 10\n",
    "print(type(num_of_students))\n",
    "\n",
    "cast_num_of_students = int(num_of_students)\n",
    "print(type(cast_num_of_students))"
   ]
  },
  {
   "cell_type": "code",
   "execution_count": 6,
   "id": "3f1d972d-e14a-4d96-af80-b2bc9a1f6867",
   "metadata": {},
   "outputs": [
    {
     "name": "stdout",
     "output_type": "stream",
     "text": [
      "10 <class 'int'>\n",
      "10.0 <class 'float'>\n"
     ]
    }
   ],
   "source": [
    "## int to float\n",
    "num_of_students = 10\n",
    "print(num_of_students, type(num_of_students))\n",
    "\n",
    "float_num_of_students = float(num_of_students)\n",
    "print(float_num_of_students, type(float_num_of_students))"
   ]
  },
  {
   "cell_type": "code",
   "execution_count": 7,
   "id": "78b9f507-3a00-4f67-835b-1b6c07b81d22",
   "metadata": {},
   "outputs": [
    {
     "name": "stdout",
     "output_type": "stream",
     "text": [
      "10 <class 'int'>\n",
      "(10+0j) <class 'complex'>\n"
     ]
    }
   ],
   "source": [
    "## int to complex\n",
    "num_of_students = 10\n",
    "print(num_of_students, type(num_of_students))\n",
    "\n",
    "complex_num_of_students = complex(num_of_students)\n",
    "print(complex_num_of_students, type(complex_num_of_students))"
   ]
  },
  {
   "cell_type": "code",
   "execution_count": 8,
   "id": "2092eb2b-2261-483c-80da-965a9ee3d38d",
   "metadata": {},
   "outputs": [
    {
     "name": "stdout",
     "output_type": "stream",
     "text": [
      "10 <class 'int'>\n",
      "True <class 'bool'>\n"
     ]
    }
   ],
   "source": [
    "## int to bool\n",
    "num_of_students = 10\n",
    "print(num_of_students, type(num_of_students))\n",
    "\n",
    "bool_num_of_students = bool(num_of_students)\n",
    "print(bool_num_of_students, type(bool_num_of_students))"
   ]
  },
  {
   "cell_type": "code",
   "execution_count": 9,
   "id": "485556a0-bc03-4476-8ca8-13e32e556b37",
   "metadata": {},
   "outputs": [
    {
     "name": "stdout",
     "output_type": "stream",
     "text": [
      "10 <class 'int'>\n",
      "10 <class 'str'>\n"
     ]
    }
   ],
   "source": [
    "## int to string\n",
    "num_of_students = 10\n",
    "print(num_of_students, type(num_of_students))\n",
    "\n",
    "str_num_of_students = str(num_of_students)\n",
    "print(str_num_of_students, type(str_num_of_students))"
   ]
  },
  {
   "cell_type": "code",
   "execution_count": 12,
   "id": "c22f64bf-d4b2-4c54-8742-cf5ad16995bf",
   "metadata": {},
   "outputs": [
    {
     "name": "stdout",
     "output_type": "stream",
     "text": [
      "dict_keys(['name', 'age'])\n",
      "dict_values(['Mt_KK', 26])\n",
      "dict_items([('name', 'Mt_KK'), ('age', 26)])\n"
     ]
    }
   ],
   "source": [
    "# list of tuple of key and value.\n",
    "\n",
    "dict = {'name' : \"Mt_KK\", \"age\": 26}\n",
    "print(dict.keys())\n",
    "print(dict.values())\n",
    "print(dict.items()) "
   ]
  },
  {
   "cell_type": "code",
   "execution_count": 3,
   "id": "5fede95c-369b-4368-98ed-4918974b6027",
   "metadata": {},
   "outputs": [
    {
     "name": "stdout",
     "output_type": "stream",
     "text": [
      "10 <class 'int'>\n",
      "10 <class 'str'>\n"
     ]
    }
   ],
   "source": [
    "## int to string\n",
    "num_of_students = 10\n",
    "print(num_of_students, type(num_of_students))\n",
    "\n",
    "str_num_of_students = str(num_of_students)\n",
    "print(str_num_of_students, type(str_num_of_students))"
   ]
  },
  {
   "cell_type": "markdown",
   "id": "79222482-ef9a-418a-b993-ec49e6b2bd41",
   "metadata": {},
   "source": [
    "### String to Others type casting "
   ]
  },
  {
   "cell_type": "code",
   "execution_count": 6,
   "id": "11575e73-a04c-45db-81ce-7d9314e6c69b",
   "metadata": {},
   "outputs": [
    {
     "name": "stdout",
     "output_type": "stream",
     "text": [
      "12 <class 'str'>\n",
      "12 <class 'int'>\n"
     ]
    }
   ],
   "source": [
    "## String to int \n",
    "\n",
    "str_value = \"12\"\n",
    "print(str_value, type(str_value))\n",
    "\n",
    "int_value =int(str_value)\n",
    "print(int_value,type(int_value))"
   ]
  },
  {
   "cell_type": "code",
   "execution_count": 10,
   "id": "b88efef7-7675-4c6a-8a0a-70930a2d2d35",
   "metadata": {},
   "outputs": [
    {
     "name": "stdout",
     "output_type": "stream",
     "text": [
      "12 <class 'str'>\n",
      "12.0 <class 'float'>\n"
     ]
    }
   ],
   "source": [
    "## String to float\n",
    "str_value = \"12\"\n",
    "print(str_value, type(str_value))\n",
    "\n",
    "float_value =float(str_value)\n",
    "print(float_value,type(float_value))"
   ]
  },
  {
   "cell_type": "code",
   "execution_count": 11,
   "id": "e4760829-a94d-45cb-83d0-040080ed69e0",
   "metadata": {},
   "outputs": [
    {
     "name": "stdout",
     "output_type": "stream",
     "text": [
      "12 <class 'str'>\n",
      "(12+0j) <class 'complex'>\n"
     ]
    }
   ],
   "source": [
    "## String to complex\n",
    "str_value = \"12\"\n",
    "print(str_value, type(str_value))\n",
    "\n",
    "complex_value =complex(str_value)\n",
    "print(complex_value,type(complex_value))"
   ]
  },
  {
   "cell_type": "code",
   "execution_count": 16,
   "id": "6442b1d9-e31b-4f94-9aaa-931babb9f284",
   "metadata": {},
   "outputs": [
    {
     "name": "stdout",
     "output_type": "stream",
     "text": [
      "12 <class 'str'>\n",
      "(12+0j) <class 'complex'>\n"
     ]
    }
   ],
   "source": [
    "## String to float\n",
    "str_value = \"12\"\n",
    "print(str_value, type(str_value))\n",
    "\n",
    "complex_value =complex(str_value)\n",
    "print(complex_value,type(complex_value))"
   ]
  },
  {
   "cell_type": "code",
   "execution_count": 14,
   "id": "969b9729-831a-4530-bab9-2d4306527049",
   "metadata": {},
   "outputs": [
    {
     "name": "stdout",
     "output_type": "stream",
     "text": [
      "12 <class 'str'>\n",
      "True <class 'bool'>\n"
     ]
    }
   ],
   "source": [
    "## String to bool\n",
    "str_value = \"12\"\n",
    "print(str_value, type(str_value))\n",
    "\n",
    "bool_value =bool(str_value)\n",
    "print(bool_value,type(bool_value))"
   ]
  },
  {
   "cell_type": "code",
   "execution_count": 17,
   "id": "3a79ae38-f194-4f4e-90a1-98c0bd5f7846",
   "metadata": {},
   "outputs": [
    {
     "name": "stdout",
     "output_type": "stream",
     "text": [
      "12 <class 'str'>\n",
      "['1', '2'] <class 'list'>\n"
     ]
    }
   ],
   "source": [
    "## String to list\n",
    "str_value = \"12\"\n",
    "print(str_value, type(str_value))\n",
    "\n",
    "list_value =list(str_value)\n",
    "print(list_value,type(list_value))"
   ]
  },
  {
   "cell_type": "code",
   "execution_count": 18,
   "id": "5950aa43-2268-4a9c-ae47-6f87b3b5013a",
   "metadata": {},
   "outputs": [
    {
     "name": "stdout",
     "output_type": "stream",
     "text": [
      "12 <class 'str'>\n",
      "('1', '2') <class 'tuple'>\n"
     ]
    }
   ],
   "source": [
    "## String to tuple\n",
    "str_value = \"12\"\n",
    "print(str_value, type(str_value))\n",
    "\n",
    "tuple_value =tuple(str_value)\n",
    "print(tuple_value,type(tuple_value))"
   ]
  },
  {
   "cell_type": "code",
   "execution_count": 19,
   "id": "303c101b-77b2-42d2-a518-e92d70693315",
   "metadata": {},
   "outputs": [
    {
     "name": "stdout",
     "output_type": "stream",
     "text": [
      "12 <class 'str'>\n",
      "{'1', '2'} <class 'set'>\n"
     ]
    }
   ],
   "source": [
    "## String to set\n",
    "str_value = \"12\"\n",
    "print(str_value, type(str_value))\n",
    "\n",
    "set_value =set(str_value)\n",
    "print(set_value,type(set_value))"
   ]
  },
  {
   "cell_type": "code",
   "execution_count": 20,
   "id": "3712affa-599d-489c-8093-85e32debde52",
   "metadata": {},
   "outputs": [
    {
     "name": "stdout",
     "output_type": "stream",
     "text": [
      "[1, 2, 3, 4] <class 'list'>\n",
      "[1, 2, 3, 4] <class 'list'>\n"
     ]
    }
   ],
   "source": [
    "## list to list\n",
    "list_value = [1,2,3,4]\n",
    "print(list_value, type(list_value))\n",
    "\n",
    "list_value1 =list(list_value)\n",
    "print(list_value1,type(list_value1))"
   ]
  },
  {
   "cell_type": "code",
   "execution_count": 21,
   "id": "3c01b4f2-8502-4b97-a0ce-743ae2e4fe02",
   "metadata": {},
   "outputs": [
    {
     "name": "stdout",
     "output_type": "stream",
     "text": [
      "[1, 2, 3, 4] <class 'list'>\n",
      "(1, 2, 3, 4) <class 'tuple'>\n"
     ]
    }
   ],
   "source": [
    "## list to tuple\n",
    "list_value = [1,2,3,4]\n",
    "print(list_value, type(list_value))\n",
    "\n",
    "tuple_value =tuple(list_value)\n",
    "print(tuple_value,type(tuple_value))"
   ]
  },
  {
   "cell_type": "code",
   "execution_count": 22,
   "id": "bc6f3cff-fec8-4442-ac21-3f239a0987e5",
   "metadata": {},
   "outputs": [
    {
     "name": "stdout",
     "output_type": "stream",
     "text": [
      "[1, 2, 3, 4] <class 'list'>\n",
      "{1, 2, 3, 4} <class 'set'>\n"
     ]
    }
   ],
   "source": [
    "## list to set\n",
    "list_value = [1,2,3,4]\n",
    "print(list_value, type(list_value))\n",
    "\n",
    "set_value =set(list_value)\n",
    "print(set_value,type(set_value))"
   ]
  },
  {
   "cell_type": "code",
   "execution_count": null,
   "id": "697395a6-b2c6-4077-927c-57337e685885",
   "metadata": {},
   "outputs": [],
   "source": []
  }
 ],
 "metadata": {
  "kernelspec": {
   "display_name": "Python 3 (ipykernel)",
   "language": "python",
   "name": "python3"
  },
  "language_info": {
   "codemirror_mode": {
    "name": "ipython",
    "version": 3
   },
   "file_extension": ".py",
   "mimetype": "text/x-python",
   "name": "python",
   "nbconvert_exporter": "python",
   "pygments_lexer": "ipython3",
   "version": "3.11.7"
  }
 },
 "nbformat": 4,
 "nbformat_minor": 5
}
