{
 "cells": [
  {
   "cell_type": "markdown",
   "id": "23e1f340-c7e1-4b28-8ffb-007890c6eb6d",
   "metadata": {},
   "source": [
    "### Pass"
   ]
  },
  {
   "cell_type": "code",
   "execution_count": 8,
   "id": "575b4b8f-cd4a-48c1-8533-8699be2d6010",
   "metadata": {},
   "outputs": [
    {
     "name": "stdout",
     "output_type": "stream",
     "text": [
      "11\n",
      "20\n",
      "Mr_KK\n",
      "Mr_KK\n",
      "14\n",
      "13\n",
      "28\n"
     ]
    }
   ],
   "source": [
    "student_ages = [11,20,14,13,28]\n",
    "\n",
    "for student_ages_value in student_ages:\n",
    "    if student_ages_value == 14:\n",
    "        print(\"Mr_KK\")\n",
    "        pass\n",
    "        print(\"Mr_KK\")\n",
    "    print(student_ages_value)"
   ]
  },
  {
   "cell_type": "markdown",
   "id": "4762c142-8f39-4b47-9282-2ffc49ba277a",
   "metadata": {},
   "source": [
    "### Break"
   ]
  },
  {
   "cell_type": "code",
   "execution_count": 13,
   "id": "47b499a2-93cc-4eea-b6fd-69febd9810ae",
   "metadata": {},
   "outputs": [
    {
     "name": "stdout",
     "output_type": "stream",
     "text": [
      "11\n",
      "20\n",
      "14\n",
      "13\n"
     ]
    }
   ],
   "source": [
    "student_ages = [11,20,14,13,28]\n",
    "for student_ages_value in student_ages:\n",
    "    if student_ages_value == 28:\n",
    "        break\n",
    "    print(student_ages_value)\n",
    "# 28 breaks the loop and will come to here"
   ]
  },
  {
   "cell_type": "code",
   "execution_count": 28,
   "id": "0fb7432e-159b-4fc7-9065-6a01debd6cb2",
   "metadata": {},
   "outputs": [
    {
     "name": "stdout",
     "output_type": "stream",
     "text": [
      "age\n"
     ]
    }
   ],
   "source": [
    "student_ages = [11,20,14,13,28]\n",
    "for student_ages_value in student_ages:\n",
    "    print (\"age\")\n",
    "    if student_ages_value == 11:\n",
    "        break\n",
    "    print(student_ages_value)\n",
    "else :\n",
    "        print(\"Mr_KK\")"
   ]
  },
  {
   "cell_type": "code",
   "execution_count": 27,
   "id": "52bc559c-f8d4-45bf-b061-179c108b83c0",
   "metadata": {},
   "outputs": [
    {
     "name": "stdout",
     "output_type": "stream",
     "text": [
      "KK\n",
      "11\n",
      "KK\n",
      "20\n",
      "KK\n",
      "Mr_KK\n",
      "KK\n",
      "13\n",
      "KK\n",
      "28\n",
      "Loop ended\n"
     ]
    }
   ],
   "source": [
    "student_ages = [11,20,14,13,28]\n",
    "\n",
    "for student_ages_value in student_ages:\n",
    "    print(\"KK\")\n",
    "    if student_ages_value == 14:\n",
    "        print(\"Mr_KK\")\n",
    "        continue\n",
    "    print(student_ages_value)\n",
    "    # 1000\n",
    "else:\n",
    "    print(\"Loop ended\")\n",
    "# 14 breaks the loop and will come to here"
   ]
  },
  {
   "cell_type": "code",
   "execution_count": null,
   "id": "e7f7e78a-da84-4e09-8141-a362cdda791d",
   "metadata": {},
   "outputs": [],
   "source": []
  }
 ],
 "metadata": {
  "kernelspec": {
   "display_name": "Python 3 (ipykernel)",
   "language": "python",
   "name": "python3"
  },
  "language_info": {
   "codemirror_mode": {
    "name": "ipython",
    "version": 3
   },
   "file_extension": ".py",
   "mimetype": "text/x-python",
   "name": "python",
   "nbconvert_exporter": "python",
   "pygments_lexer": "ipython3",
   "version": "3.11.7"
  }
 },
 "nbformat": 4,
 "nbformat_minor": 5
}
