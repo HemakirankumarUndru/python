{
 "cells": [
  {
   "cell_type": "markdown",
   "id": "487d6568-ffb0-488f-a4ac-f802746f3b1e",
   "metadata": {},
   "source": [
    "### COnditional Statement"
   ]
  },
  {
   "cell_type": "markdown",
   "id": "5f751730-75ad-4f02-a50e-72e943092d9d",
   "metadata": {},
   "source": [
    "#### 1. if Condition"
   ]
  },
  {
   "cell_type": "code",
   "execution_count": 1,
   "id": "b2ee7061-87ba-4928-8d21-9a9ef3d03471",
   "metadata": {},
   "outputs": [
    {
     "name": "stdout",
     "output_type": "stream",
     "text": [
      "X less than 10\n"
     ]
    }
   ],
   "source": [
    "x = 10\n",
    "if x < 15 :\n",
    "    print(\"X less than 10\")"
   ]
  },
  {
   "cell_type": "code",
   "execution_count": 2,
   "id": "3bbf2540-3b7f-4525-9757-5e7a4c0d6808",
   "metadata": {},
   "outputs": [
    {
     "name": "stdin",
     "output_type": "stream",
     "text": [
      "Enter your age : 50\n"
     ]
    }
   ],
   "source": [
    "age = int(input(\"Enter your age :\"))\n",
    "if age < 20:\n",
    "    print(f\"person is eleigible for marriage \")"
   ]
  },
  {
   "cell_type": "markdown",
   "id": "5d62c765-566a-406a-a9ea-00f4d12ae709",
   "metadata": {},
   "source": [
    "### 2.if else"
   ]
  },
  {
   "cell_type": "code",
   "execution_count": 3,
   "id": "26230194-9353-4832-b6e9-e753e23f06a5",
   "metadata": {},
   "outputs": [
    {
     "name": "stdin",
     "output_type": "stream",
     "text": [
      "Enter your age : 15\n"
     ]
    },
    {
     "name": "stdout",
     "output_type": "stream",
     "text": [
      "person is eligible for marriage \n"
     ]
    }
   ],
   "source": [
    "age = int(input(\"Enter your age :\"))\n",
    "if age < 20:\n",
    "    print(f\"person is eligible for marriage \")\n",
    "\n",
    "else: print(\"Person is not eligible for marriage\")\n"
   ]
  },
  {
   "cell_type": "code",
   "execution_count": 7,
   "id": "75d592d7-927f-4d41-b6b9-013ed9f1041f",
   "metadata": {},
   "outputs": [
    {
     "name": "stdin",
     "output_type": "stream",
     "text": [
      "Enter amount: 102\n"
     ]
    },
    {
     "name": "stdout",
     "output_type": "stream",
     "text": [
      "No amount deduction\n"
     ]
    }
   ],
   "source": [
    "Amount = float(input(\"Enter amount:\"))\n",
    "min_amount = 1000.00\n",
    "if Amount <= min_amount :\n",
    "    print (\"No amount deduction\")\n",
    "\n",
    "else :\n",
    "    print(\"Amount deduction\")\n"
   ]
  },
  {
   "cell_type": "code",
   "execution_count": 9,
   "id": "91be3b92-94fa-4268-9cf5-11e6b21232ba",
   "metadata": {},
   "outputs": [
    {
     "name": "stdin",
     "output_type": "stream",
     "text": [
      "Enter amount: 500\n"
     ]
    },
    {
     "name": "stdout",
     "output_type": "stream",
     "text": [
      "No amount deduction\n",
      "Amount deduction\n"
     ]
    }
   ],
   "source": [
    "Amount = float(input(\"Enter amount:\"))\n",
    "min_amount = 1000.00\n",
    "if Amount <= min_amount :  #amount less than min_amount\n",
    "    print (\"No amount deduction\")\n",
    "\n",
    "else :\n",
    "    print(\"Amount deduction\")\n",
    "\n",
    "if Amount >= min_amount :  #amount greater than min_amount\n",
    "    print (\"No amount deduction\")\n",
    "\n",
    "else :\n",
    "    print(\"Amount deduction\")"
   ]
  },
  {
   "cell_type": "markdown",
   "id": "f107252a-ae27-4da9-a684-43d37bba5d5f",
   "metadata": {},
   "source": [
    "### 3.else if :  elif"
   ]
  },
  {
   "cell_type": "code",
   "execution_count": 27,
   "id": "598fd54e-d55d-4d5c-9a6a-fd66bdf3fe0a",
   "metadata": {},
   "outputs": [
    {
     "name": "stdin",
     "output_type": "stream",
     "text": [
      "Enter first name : ksfafa\n",
      "Enter last name : undru\n"
     ]
    },
    {
     "name": "stdout",
     "output_type": "stream",
     "text": [
      "Please enter correct first name\n"
     ]
    }
   ],
   "source": [
    "first_name = input(\"Enter first name :\")\n",
    "last_name = input(\"Enter last name :\")\n",
    "if first_name and last_name :\n",
    "    if first_name == \"kiran\" and  last_name == \"undru\":\n",
    "        print(\"Go to next field\")\n",
    "    elif first_name != \"kiran\" and last_name != \"undru\":\n",
    "        print(\"Dont go to next field\")\n",
    "    elif first_name != \"kiran\" :\n",
    "        print(\"Please enter correct first name\")\n",
    "    elif last_name != \"undru\" :\n",
    "        print(\"Please enter correct last name\")"
   ]
  },
  {
   "cell_type": "code",
   "execution_count": null,
   "id": "fe70b867-2abb-4ebf-b76c-8c18d8c7aece",
   "metadata": {},
   "outputs": [],
   "source": []
  }
 ],
 "metadata": {
  "kernelspec": {
   "display_name": "Python 3 (ipykernel)",
   "language": "python",
   "name": "python3"
  },
  "language_info": {
   "codemirror_mode": {
    "name": "ipython",
    "version": 3
   },
   "file_extension": ".py",
   "mimetype": "text/x-python",
   "name": "python",
   "nbconvert_exporter": "python",
   "pygments_lexer": "ipython3",
   "version": "3.11.7"
  }
 },
 "nbformat": 4,
 "nbformat_minor": 5
}
