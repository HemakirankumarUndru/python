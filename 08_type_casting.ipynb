{
 "cells": [
  {
   "cell_type": "markdown",
   "id": "19e50783-d6b9-4598-b5c4-f8836af46436",
   "metadata": {},
   "source": [
    "### Type_Casting"
   ]
  },
  {
   "cell_type": "code",
   "execution_count": 1,
   "id": "6bb2e5a3-2456-4fc3-bb86-ea779cd71955",
   "metadata": {},
   "outputs": [
    {
     "name": "stdout",
     "output_type": "stream",
     "text": [
      "<class 'int'>\n",
      "<class 'int'>\n"
     ]
    }
   ],
   "source": [
    "num_of_students = 10\n",
    "print(type(num_of_students))\n",
    "\n",
    "cast_num_of_students = int(num_of_students)\n",
    "print(type(cast_num_of_students))"
   ]
  },
  {
   "cell_type": "code",
   "execution_count": 6,
   "id": "3f1d972d-e14a-4d96-af80-b2bc9a1f6867",
   "metadata": {},
   "outputs": [
    {
     "name": "stdout",
     "output_type": "stream",
     "text": [
      "10 <class 'int'>\n",
      "10.0 <class 'float'>\n"
     ]
    }
   ],
   "source": [
    "num_of_students = 10\n",
    "print(num_of_students, type(num_of_students))\n",
    "\n",
    "float_num_of_students = float(num_of_students)\n",
    "print(float_num_of_students, type(float_num_of_students))"
   ]
  },
  {
   "cell_type": "code",
   "execution_count": 7,
   "id": "78b9f507-3a00-4f67-835b-1b6c07b81d22",
   "metadata": {},
   "outputs": [
    {
     "name": "stdout",
     "output_type": "stream",
     "text": [
      "10 <class 'int'>\n",
      "(10+0j) <class 'complex'>\n"
     ]
    }
   ],
   "source": [
    "num_of_students = 10\n",
    "print(num_of_students, type(num_of_students))\n",
    "\n",
    "complex_num_of_students = complex(num_of_students)\n",
    "print(complex_num_of_students, type(complex_num_of_students))"
   ]
  },
  {
   "cell_type": "code",
   "execution_count": 8,
   "id": "2092eb2b-2261-483c-80da-965a9ee3d38d",
   "metadata": {},
   "outputs": [
    {
     "name": "stdout",
     "output_type": "stream",
     "text": [
      "10 <class 'int'>\n",
      "True <class 'bool'>\n"
     ]
    }
   ],
   "source": [
    "num_of_students = 10\n",
    "print(num_of_students, type(num_of_students))\n",
    "\n",
    "bool_num_of_students = bool(num_of_students)\n",
    "print(bool_num_of_students, type(bool_num_of_students))"
   ]
  },
  {
   "cell_type": "code",
   "execution_count": 9,
   "id": "485556a0-bc03-4476-8ca8-13e32e556b37",
   "metadata": {},
   "outputs": [
    {
     "name": "stdout",
     "output_type": "stream",
     "text": [
      "10 <class 'int'>\n",
      "10 <class 'str'>\n"
     ]
    }
   ],
   "source": [
    "num_of_students = 10\n",
    "print(num_of_students, type(num_of_students))\n",
    "\n",
    "str_num_of_students = str(num_of_students)\n",
    "print(str_num_of_students, type(str_num_of_students))"
   ]
  },
  {
   "cell_type": "code",
   "execution_count": 12,
   "id": "c22f64bf-d4b2-4c54-8742-cf5ad16995bf",
   "metadata": {},
   "outputs": [
    {
     "name": "stdout",
     "output_type": "stream",
     "text": [
      "dict_keys(['name', 'age'])\n",
      "dict_values(['Mt_KK', 26])\n",
      "dict_items([('name', 'Mt_KK'), ('age', 26)])\n"
     ]
    }
   ],
   "source": [
    "dict = {'name' : \"Mt_KK\", \"age\": 26}\n",
    "\n",
    "print(dict.keys())\n",
    "print(dict.values())\n",
    "print(dict.items()) # list of tuple of key and value."
   ]
  },
  {
   "cell_type": "code",
   "execution_count": null,
   "id": "5fede95c-369b-4368-98ed-4918974b6027",
   "metadata": {},
   "outputs": [],
   "source": []
  }
 ],
 "metadata": {
  "kernelspec": {
   "display_name": "Python 3 (ipykernel)",
   "language": "python",
   "name": "python3"
  },
  "language_info": {
   "codemirror_mode": {
    "name": "ipython",
    "version": 3
   },
   "file_extension": ".py",
   "mimetype": "text/x-python",
   "name": "python",
   "nbconvert_exporter": "python",
   "pygments_lexer": "ipython3",
   "version": "3.11.7"
  }
 },
 "nbformat": 4,
 "nbformat_minor": 5
}
